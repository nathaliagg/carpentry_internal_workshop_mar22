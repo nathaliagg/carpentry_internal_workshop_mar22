{
 "cells": [
  {
   "cell_type": "markdown",
   "metadata": {},
   "source": [
    "# OSU Carpentry Community March 22, 2018 - Internal Workshop\n",
    "\n",
    "### Title: Statistics, Plotting and Programming in Python 🐍\n",
    "\n",
    "**Nathalia Graf-Grachet**\n",
    "\n",
    "The material I prepared is a combination of codes found in [Programming with Python](http://swcarpentry.github.io/python-novice-inflammation/) and [Plotting and Programming with Python](http://swcarpentry.github.io/python-novice-gapminder/). \n",
    "\n",
    "Additional links that I found useful: [Marker options](https://matplotlib.org/gallery/lines_bars_and_markers/scatter_star_poly.html#sphx-glr-gallery-lines-bars-and-markers-scatter-star-poly-py), [All possible markers](https://matplotlib.org/api/_as_gen/matplotlib.markers.MarkerStyle.html#matplotlib.markers.MarkerStyle), [Color names](https://matplotlib.org/gallery/color/named_colors.html#sphx-glr-gallery-color-named-colors-py), [Statistical analysis](http://cleverowl.uk/2015/07/01/using-one-way-anova-and-tukeys-test-to-compare-data-sets/), [Saving plots to file](http://blog.bharatbhole.com/creating-boxplots-with-matplotlib/), [Aggregation and Grouping](https://jakevdp.github.io/PythonDataScienceHandbook/03.08-aggregation-and-grouping.html), [Plotting](http://bioinformatics.igc.gulbenkian.pt/ubi/sites/bioinformatics.igc.gulbenkian.pt/files/Matplotlib_Tutorial_1.html)"
   ]
  },
  {
   "cell_type": "markdown",
   "metadata": {},
   "source": [
    "### GOALS:\n",
    "\n",
    "1. Statistical analysis consisting of an ANOVA and a Tukey test.  \n",
    "2. Plot data in publication quality figures.  \n",
    "3. Create an executable python script to analyze future files more efficiently.  "
   ]
  },
  {
   "cell_type": "markdown",
   "metadata": {},
   "source": [
    "### Information about the data set:\n",
    "\n",
    "Nathalia's Redemption...\n",
    "\n",
    "This is a data set from crop science that I took from Dr. Smith's (Dep. Horticulture and Landscape) class (Spring of 2015).\n",
    "\n",
    "The objective of the study was to evaluate the effect of foliar applications of nitrogen (N) in urea form (46% N) on pecan yield and N content of leaves. ‘Pawnee’ was the pecan cultivar of this experiment. There were a total of three N applications, and rates were 0, 0.2, 0.4, 0.6 and 0.8% N. There wasn't much information about this unit, normally it reflects amount of N (in kg or lbs) per amount of water (in liters of gallons) used in the spray. Leaf samples were collected in July and October, and N content of leaves was determined with a Leco N analyzer. Pecans were harvested in November, and weighed. The experiment consisted of a Completely Randomized Block Design with 10 replications. "
   ]
  },
  {
   "cell_type": "code",
   "execution_count": 1,
   "metadata": {},
   "outputs": [],
   "source": [
    "# always import packages first"
   ]
  },
  {
   "cell_type": "code",
   "execution_count": 2,
   "metadata": {},
   "outputs": [],
   "source": [
    "import pandas as pd\n",
    "import matplotlib as mpl \n",
    "import matplotlib.pyplot as plt\n",
    "%matplotlib inline\n",
    "import scipy.stats as stats\n",
    "import numpy as np\n",
    "from statsmodels.stats.multicomp import pairwise_tukeyhsd\n",
    "from statsmodels.stats.multicomp import MultiComparison"
   ]
  },
  {
   "cell_type": "markdown",
   "metadata": {},
   "source": [
    "## Getting to know the data"
   ]
  },
  {
   "cell_type": "code",
   "execution_count": 3,
   "metadata": {},
   "outputs": [],
   "source": [
    "# import data \n",
    "pecan_data = pd.read_csv('data/Smith_pecan_data.csv')"
   ]
  },
  {
   "cell_type": "code",
   "execution_count": 4,
   "metadata": {},
   "outputs": [
    {
     "data": {
      "text/html": [
       "<div>\n",
       "<style scoped>\n",
       "    .dataframe tbody tr th:only-of-type {\n",
       "        vertical-align: middle;\n",
       "    }\n",
       "\n",
       "    .dataframe tbody tr th {\n",
       "        vertical-align: top;\n",
       "    }\n",
       "\n",
       "    .dataframe thead th {\n",
       "        text-align: right;\n",
       "    }\n",
       "</style>\n",
       "<table border=\"1\" class=\"dataframe\">\n",
       "  <thead>\n",
       "    <tr style=\"text-align: right;\">\n",
       "      <th></th>\n",
       "      <th>n_rate</th>\n",
       "      <th>rep</th>\n",
       "      <th>july</th>\n",
       "      <th>oct</th>\n",
       "      <th>yield</th>\n",
       "    </tr>\n",
       "  </thead>\n",
       "  <tbody>\n",
       "    <tr>\n",
       "      <th>0</th>\n",
       "      <td>0.0</td>\n",
       "      <td>1</td>\n",
       "      <td>2.57</td>\n",
       "      <td>2.03</td>\n",
       "      <td>12</td>\n",
       "    </tr>\n",
       "    <tr>\n",
       "      <th>1</th>\n",
       "      <td>0.0</td>\n",
       "      <td>2</td>\n",
       "      <td>2.78</td>\n",
       "      <td>2.12</td>\n",
       "      <td>19</td>\n",
       "    </tr>\n",
       "    <tr>\n",
       "      <th>2</th>\n",
       "      <td>0.0</td>\n",
       "      <td>3</td>\n",
       "      <td>2.47</td>\n",
       "      <td>2.16</td>\n",
       "      <td>22</td>\n",
       "    </tr>\n",
       "    <tr>\n",
       "      <th>3</th>\n",
       "      <td>0.0</td>\n",
       "      <td>4</td>\n",
       "      <td>2.59</td>\n",
       "      <td>2.09</td>\n",
       "      <td>30</td>\n",
       "    </tr>\n",
       "    <tr>\n",
       "      <th>4</th>\n",
       "      <td>0.0</td>\n",
       "      <td>5</td>\n",
       "      <td>2.53</td>\n",
       "      <td>2.00</td>\n",
       "      <td>18</td>\n",
       "    </tr>\n",
       "    <tr>\n",
       "      <th>5</th>\n",
       "      <td>0.0</td>\n",
       "      <td>6</td>\n",
       "      <td>2.33</td>\n",
       "      <td>1.97</td>\n",
       "      <td>22</td>\n",
       "    </tr>\n",
       "    <tr>\n",
       "      <th>6</th>\n",
       "      <td>0.0</td>\n",
       "      <td>7</td>\n",
       "      <td>2.50</td>\n",
       "      <td>2.04</td>\n",
       "      <td>23</td>\n",
       "    </tr>\n",
       "    <tr>\n",
       "      <th>7</th>\n",
       "      <td>0.0</td>\n",
       "      <td>8</td>\n",
       "      <td>2.64</td>\n",
       "      <td>2.10</td>\n",
       "      <td>.</td>\n",
       "    </tr>\n",
       "    <tr>\n",
       "      <th>8</th>\n",
       "      <td>0.0</td>\n",
       "      <td>9</td>\n",
       "      <td>2.37</td>\n",
       "      <td>1.90</td>\n",
       "      <td>.</td>\n",
       "    </tr>\n",
       "    <tr>\n",
       "      <th>9</th>\n",
       "      <td>0.0</td>\n",
       "      <td>10</td>\n",
       "      <td>2.59</td>\n",
       "      <td>1.87</td>\n",
       "      <td>38</td>\n",
       "    </tr>\n",
       "    <tr>\n",
       "      <th>10</th>\n",
       "      <td>0.2</td>\n",
       "      <td>1</td>\n",
       "      <td>2.64</td>\n",
       "      <td>2.18</td>\n",
       "      <td>16</td>\n",
       "    </tr>\n",
       "    <tr>\n",
       "      <th>11</th>\n",
       "      <td>0.2</td>\n",
       "      <td>2</td>\n",
       "      <td>2.73</td>\n",
       "      <td>2.07</td>\n",
       "      <td>22</td>\n",
       "    </tr>\n",
       "    <tr>\n",
       "      <th>12</th>\n",
       "      <td>0.2</td>\n",
       "      <td>3</td>\n",
       "      <td>2.54</td>\n",
       "      <td>1.93</td>\n",
       "      <td>26</td>\n",
       "    </tr>\n",
       "    <tr>\n",
       "      <th>13</th>\n",
       "      <td>0.2</td>\n",
       "      <td>4</td>\n",
       "      <td>2.59</td>\n",
       "      <td>2.10</td>\n",
       "      <td>43</td>\n",
       "    </tr>\n",
       "    <tr>\n",
       "      <th>14</th>\n",
       "      <td>0.2</td>\n",
       "      <td>5</td>\n",
       "      <td>2.10</td>\n",
       "      <td>1.85</td>\n",
       "      <td>13</td>\n",
       "    </tr>\n",
       "  </tbody>\n",
       "</table>\n",
       "</div>"
      ],
      "text/plain": [
       "    n_rate  rep  july   oct yield\n",
       "0      0.0    1  2.57  2.03    12\n",
       "1      0.0    2  2.78  2.12    19\n",
       "2      0.0    3  2.47  2.16    22\n",
       "3      0.0    4  2.59  2.09    30\n",
       "4      0.0    5  2.53  2.00    18\n",
       "5      0.0    6  2.33  1.97    22\n",
       "6      0.0    7  2.50  2.04    23\n",
       "7      0.0    8  2.64  2.10     .\n",
       "8      0.0    9  2.37  1.90     .\n",
       "9      0.0   10  2.59  1.87    38\n",
       "10     0.2    1  2.64  2.18    16\n",
       "11     0.2    2  2.73  2.07    22\n",
       "12     0.2    3  2.54  1.93    26\n",
       "13     0.2    4  2.59  2.10    43\n",
       "14     0.2    5  2.10  1.85    13"
      ]
     },
     "execution_count": 4,
     "metadata": {},
     "output_type": "execute_result"
    }
   ],
   "source": [
    "# check how data looks like\n",
    "pecan_data.head(15)"
   ]
  },
  {
   "cell_type": "code",
   "execution_count": 5,
   "metadata": {},
   "outputs": [
    {
     "data": {
      "text/html": [
       "<div>\n",
       "<style scoped>\n",
       "    .dataframe tbody tr th:only-of-type {\n",
       "        vertical-align: middle;\n",
       "    }\n",
       "\n",
       "    .dataframe tbody tr th {\n",
       "        vertical-align: top;\n",
       "    }\n",
       "\n",
       "    .dataframe thead th {\n",
       "        text-align: right;\n",
       "    }\n",
       "</style>\n",
       "<table border=\"1\" class=\"dataframe\">\n",
       "  <thead>\n",
       "    <tr style=\"text-align: right;\">\n",
       "      <th></th>\n",
       "      <th>n_rate</th>\n",
       "      <th>rep</th>\n",
       "      <th>july</th>\n",
       "      <th>oct</th>\n",
       "      <th>yield</th>\n",
       "    </tr>\n",
       "  </thead>\n",
       "  <tbody>\n",
       "    <tr>\n",
       "      <th>0</th>\n",
       "      <td>0.0</td>\n",
       "      <td>1</td>\n",
       "      <td>2.57</td>\n",
       "      <td>2.03</td>\n",
       "      <td>12.0</td>\n",
       "    </tr>\n",
       "    <tr>\n",
       "      <th>1</th>\n",
       "      <td>0.0</td>\n",
       "      <td>2</td>\n",
       "      <td>2.78</td>\n",
       "      <td>2.12</td>\n",
       "      <td>19.0</td>\n",
       "    </tr>\n",
       "    <tr>\n",
       "      <th>2</th>\n",
       "      <td>0.0</td>\n",
       "      <td>3</td>\n",
       "      <td>2.47</td>\n",
       "      <td>2.16</td>\n",
       "      <td>22.0</td>\n",
       "    </tr>\n",
       "    <tr>\n",
       "      <th>3</th>\n",
       "      <td>0.0</td>\n",
       "      <td>4</td>\n",
       "      <td>2.59</td>\n",
       "      <td>2.09</td>\n",
       "      <td>30.0</td>\n",
       "    </tr>\n",
       "    <tr>\n",
       "      <th>4</th>\n",
       "      <td>0.0</td>\n",
       "      <td>5</td>\n",
       "      <td>2.53</td>\n",
       "      <td>2.00</td>\n",
       "      <td>18.0</td>\n",
       "    </tr>\n",
       "    <tr>\n",
       "      <th>5</th>\n",
       "      <td>0.0</td>\n",
       "      <td>6</td>\n",
       "      <td>2.33</td>\n",
       "      <td>1.97</td>\n",
       "      <td>22.0</td>\n",
       "    </tr>\n",
       "    <tr>\n",
       "      <th>6</th>\n",
       "      <td>0.0</td>\n",
       "      <td>7</td>\n",
       "      <td>2.50</td>\n",
       "      <td>2.04</td>\n",
       "      <td>23.0</td>\n",
       "    </tr>\n",
       "    <tr>\n",
       "      <th>7</th>\n",
       "      <td>0.0</td>\n",
       "      <td>8</td>\n",
       "      <td>2.64</td>\n",
       "      <td>2.10</td>\n",
       "      <td>NaN</td>\n",
       "    </tr>\n",
       "    <tr>\n",
       "      <th>8</th>\n",
       "      <td>0.0</td>\n",
       "      <td>9</td>\n",
       "      <td>2.37</td>\n",
       "      <td>1.90</td>\n",
       "      <td>NaN</td>\n",
       "    </tr>\n",
       "    <tr>\n",
       "      <th>9</th>\n",
       "      <td>0.0</td>\n",
       "      <td>10</td>\n",
       "      <td>2.59</td>\n",
       "      <td>1.87</td>\n",
       "      <td>38.0</td>\n",
       "    </tr>\n",
       "    <tr>\n",
       "      <th>10</th>\n",
       "      <td>0.2</td>\n",
       "      <td>1</td>\n",
       "      <td>2.64</td>\n",
       "      <td>2.18</td>\n",
       "      <td>16.0</td>\n",
       "    </tr>\n",
       "    <tr>\n",
       "      <th>11</th>\n",
       "      <td>0.2</td>\n",
       "      <td>2</td>\n",
       "      <td>2.73</td>\n",
       "      <td>2.07</td>\n",
       "      <td>22.0</td>\n",
       "    </tr>\n",
       "    <tr>\n",
       "      <th>12</th>\n",
       "      <td>0.2</td>\n",
       "      <td>3</td>\n",
       "      <td>2.54</td>\n",
       "      <td>1.93</td>\n",
       "      <td>26.0</td>\n",
       "    </tr>\n",
       "    <tr>\n",
       "      <th>13</th>\n",
       "      <td>0.2</td>\n",
       "      <td>4</td>\n",
       "      <td>2.59</td>\n",
       "      <td>2.10</td>\n",
       "      <td>43.0</td>\n",
       "    </tr>\n",
       "    <tr>\n",
       "      <th>14</th>\n",
       "      <td>0.2</td>\n",
       "      <td>5</td>\n",
       "      <td>2.10</td>\n",
       "      <td>1.85</td>\n",
       "      <td>13.0</td>\n",
       "    </tr>\n",
       "  </tbody>\n",
       "</table>\n",
       "</div>"
      ],
      "text/plain": [
       "    n_rate  rep  july   oct  yield\n",
       "0      0.0    1  2.57  2.03   12.0\n",
       "1      0.0    2  2.78  2.12   19.0\n",
       "2      0.0    3  2.47  2.16   22.0\n",
       "3      0.0    4  2.59  2.09   30.0\n",
       "4      0.0    5  2.53  2.00   18.0\n",
       "5      0.0    6  2.33  1.97   22.0\n",
       "6      0.0    7  2.50  2.04   23.0\n",
       "7      0.0    8  2.64  2.10    NaN\n",
       "8      0.0    9  2.37  1.90    NaN\n",
       "9      0.0   10  2.59  1.87   38.0\n",
       "10     0.2    1  2.64  2.18   16.0\n",
       "11     0.2    2  2.73  2.07   22.0\n",
       "12     0.2    3  2.54  1.93   26.0\n",
       "13     0.2    4  2.59  2.10   43.0\n",
       "14     0.2    5  2.10  1.85   13.0"
      ]
     },
     "execution_count": 5,
     "metadata": {},
     "output_type": "execute_result"
    }
   ],
   "source": [
    "# the '.' represent missing data\n",
    "# add \"na_values='.' \" to substitute '.' with 'NaN'\n",
    "pecan_data = pd.read_csv('data/Smith_pecan_data.csv', na_values='.')\n",
    "pecan_data.head(15) # notice rows 7 & 8"
   ]
  },
  {
   "cell_type": "code",
   "execution_count": 6,
   "metadata": {},
   "outputs": [
    {
     "data": {
      "text/plain": [
       "0     12.0\n",
       "1     19.0\n",
       "2     22.0\n",
       "3     30.0\n",
       "4     18.0\n",
       "5     22.0\n",
       "6     23.0\n",
       "7      NaN\n",
       "8      NaN\n",
       "9     38.0\n",
       "10    16.0\n",
       "11    22.0\n",
       "12    26.0\n",
       "13    43.0\n",
       "14    13.0\n",
       "Name: yield, dtype: float64"
      ]
     },
     "execution_count": 6,
     "metadata": {},
     "output_type": "execute_result"
    }
   ],
   "source": [
    "# slice data using a column header\n",
    "pecan_data['yield'].head(15)"
   ]
  },
  {
   "cell_type": "code",
   "execution_count": 7,
   "metadata": {},
   "outputs": [
    {
     "data": {
      "text/plain": [
       "n_rate    float64\n",
       "rep         int64\n",
       "july      float64\n",
       "oct       float64\n",
       "yield     float64\n",
       "dtype: object"
      ]
     },
     "execution_count": 7,
     "metadata": {},
     "output_type": "execute_result"
    }
   ],
   "source": [
    "# check data types\n",
    "pecan_data.dtypes "
   ]
  },
  {
   "cell_type": "code",
   "execution_count": 8,
   "metadata": {},
   "outputs": [],
   "source": [
    "# object == str"
   ]
  },
  {
   "cell_type": "code",
   "execution_count": 9,
   "metadata": {},
   "outputs": [
    {
     "data": {
      "text/plain": [
       "(53, 5)"
      ]
     },
     "execution_count": 9,
     "metadata": {},
     "output_type": "execute_result"
    }
   ],
   "source": [
    "pecan_data.shape # (rows, columns)"
   ]
  },
  {
   "cell_type": "code",
   "execution_count": 10,
   "metadata": {},
   "outputs": [
    {
     "data": {
      "text/plain": [
       "Index(['n_rate', 'rep', 'july', 'oct', 'yield'], dtype='object')"
      ]
     },
     "execution_count": 10,
     "metadata": {},
     "output_type": "execute_result"
    }
   ],
   "source": [
    "# column headers\n",
    "pecan_data.columns "
   ]
  },
  {
   "cell_type": "code",
   "execution_count": 11,
   "metadata": {},
   "outputs": [
    {
     "data": {
      "text/plain": [
       "array([ 0. ,  0.2,  0.4,  0.6,  0.8])"
      ]
     },
     "execution_count": 11,
     "metadata": {},
     "output_type": "execute_result"
    }
   ],
   "source": [
    "# unique entries (treatments in this case)\n",
    "pecan_data['n_rate'].unique()"
   ]
  },
  {
   "cell_type": "code",
   "execution_count": 12,
   "metadata": {
    "scrolled": true
   },
   "outputs": [
    {
     "data": {
      "text/plain": [
       "n_rate    False\n",
       "rep       False\n",
       "july      False\n",
       "oct       False\n",
       "yield      True\n",
       "dtype: bool"
      ]
     },
     "execution_count": 12,
     "metadata": {},
     "output_type": "execute_result"
    }
   ],
   "source": [
    "# test for missing data\n",
    "# returns a bool\n",
    "pecan_data.isnull().any()"
   ]
  },
  {
   "cell_type": "code",
   "execution_count": 13,
   "metadata": {},
   "outputs": [],
   "source": [
    "# True = missing data\n",
    "# False = no missing data"
   ]
  },
  {
   "cell_type": "code",
   "execution_count": 14,
   "metadata": {},
   "outputs": [
    {
     "data": {
      "text/plain": [
       "True"
      ]
     },
     "execution_count": 14,
     "metadata": {},
     "output_type": "execute_result"
    }
   ],
   "source": [
    "# test for missing data in a specific column:\n",
    "pecan_data['yield'].isnull().any()"
   ]
  },
  {
   "cell_type": "code",
   "execution_count": 15,
   "metadata": {},
   "outputs": [
    {
     "data": {
      "text/html": [
       "<div>\n",
       "<style scoped>\n",
       "    .dataframe tbody tr th:only-of-type {\n",
       "        vertical-align: middle;\n",
       "    }\n",
       "\n",
       "    .dataframe tbody tr th {\n",
       "        vertical-align: top;\n",
       "    }\n",
       "\n",
       "    .dataframe thead th {\n",
       "        text-align: right;\n",
       "    }\n",
       "</style>\n",
       "<table border=\"1\" class=\"dataframe\">\n",
       "  <thead>\n",
       "    <tr style=\"text-align: right;\">\n",
       "      <th></th>\n",
       "      <th>n_rate</th>\n",
       "      <th>rep</th>\n",
       "      <th>july</th>\n",
       "      <th>oct</th>\n",
       "      <th>yield</th>\n",
       "    </tr>\n",
       "  </thead>\n",
       "  <tbody>\n",
       "    <tr>\n",
       "      <th>0</th>\n",
       "      <td>0.0</td>\n",
       "      <td>1</td>\n",
       "      <td>2.57</td>\n",
       "      <td>2.03</td>\n",
       "      <td>12.0</td>\n",
       "    </tr>\n",
       "    <tr>\n",
       "      <th>1</th>\n",
       "      <td>0.0</td>\n",
       "      <td>2</td>\n",
       "      <td>2.78</td>\n",
       "      <td>2.12</td>\n",
       "      <td>19.0</td>\n",
       "    </tr>\n",
       "    <tr>\n",
       "      <th>2</th>\n",
       "      <td>0.0</td>\n",
       "      <td>3</td>\n",
       "      <td>2.47</td>\n",
       "      <td>2.16</td>\n",
       "      <td>22.0</td>\n",
       "    </tr>\n",
       "    <tr>\n",
       "      <th>3</th>\n",
       "      <td>0.0</td>\n",
       "      <td>4</td>\n",
       "      <td>2.59</td>\n",
       "      <td>2.09</td>\n",
       "      <td>30.0</td>\n",
       "    </tr>\n",
       "    <tr>\n",
       "      <th>4</th>\n",
       "      <td>0.0</td>\n",
       "      <td>5</td>\n",
       "      <td>2.53</td>\n",
       "      <td>2.00</td>\n",
       "      <td>18.0</td>\n",
       "    </tr>\n",
       "    <tr>\n",
       "      <th>5</th>\n",
       "      <td>0.0</td>\n",
       "      <td>6</td>\n",
       "      <td>2.33</td>\n",
       "      <td>1.97</td>\n",
       "      <td>22.0</td>\n",
       "    </tr>\n",
       "    <tr>\n",
       "      <th>6</th>\n",
       "      <td>0.0</td>\n",
       "      <td>7</td>\n",
       "      <td>2.50</td>\n",
       "      <td>2.04</td>\n",
       "      <td>23.0</td>\n",
       "    </tr>\n",
       "    <tr>\n",
       "      <th>9</th>\n",
       "      <td>0.0</td>\n",
       "      <td>10</td>\n",
       "      <td>2.59</td>\n",
       "      <td>1.87</td>\n",
       "      <td>38.0</td>\n",
       "    </tr>\n",
       "    <tr>\n",
       "      <th>10</th>\n",
       "      <td>0.2</td>\n",
       "      <td>1</td>\n",
       "      <td>2.64</td>\n",
       "      <td>2.18</td>\n",
       "      <td>16.0</td>\n",
       "    </tr>\n",
       "    <tr>\n",
       "      <th>11</th>\n",
       "      <td>0.2</td>\n",
       "      <td>2</td>\n",
       "      <td>2.73</td>\n",
       "      <td>2.07</td>\n",
       "      <td>22.0</td>\n",
       "    </tr>\n",
       "  </tbody>\n",
       "</table>\n",
       "</div>"
      ],
      "text/plain": [
       "    n_rate  rep  july   oct  yield\n",
       "0      0.0    1  2.57  2.03   12.0\n",
       "1      0.0    2  2.78  2.12   19.0\n",
       "2      0.0    3  2.47  2.16   22.0\n",
       "3      0.0    4  2.59  2.09   30.0\n",
       "4      0.0    5  2.53  2.00   18.0\n",
       "5      0.0    6  2.33  1.97   22.0\n",
       "6      0.0    7  2.50  2.04   23.0\n",
       "9      0.0   10  2.59  1.87   38.0\n",
       "10     0.2    1  2.64  2.18   16.0\n",
       "11     0.2    2  2.73  2.07   22.0"
      ]
     },
     "execution_count": 15,
     "metadata": {},
     "output_type": "execute_result"
    }
   ],
   "source": [
    "# remove entire rows that contain missing values\n",
    "# store as 'filtered' \n",
    "filtered_pecan_data = pecan_data.dropna()\n",
    "filtered_pecan_data.head(10) # removed rows 7 & 8 "
   ]
  },
  {
   "cell_type": "code",
   "execution_count": 16,
   "metadata": {},
   "outputs": [
    {
     "data": {
      "text/plain": [
       "n_rate    False\n",
       "rep       False\n",
       "july      False\n",
       "oct       False\n",
       "yield     False\n",
       "dtype: bool"
      ]
     },
     "execution_count": 16,
     "metadata": {},
     "output_type": "execute_result"
    }
   ],
   "source": [
    "filtered_pecan_data.isnull().any()"
   ]
  },
  {
   "cell_type": "code",
   "execution_count": 17,
   "metadata": {},
   "outputs": [],
   "source": [
    "# Great!"
   ]
  },
  {
   "cell_type": "markdown",
   "metadata": {},
   "source": [
    "## Statistics"
   ]
  },
  {
   "cell_type": "code",
   "execution_count": 18,
   "metadata": {},
   "outputs": [
    {
     "data": {
      "text/html": [
       "<div>\n",
       "<style scoped>\n",
       "    .dataframe tbody tr th:only-of-type {\n",
       "        vertical-align: middle;\n",
       "    }\n",
       "\n",
       "    .dataframe tbody tr th {\n",
       "        vertical-align: top;\n",
       "    }\n",
       "\n",
       "    .dataframe thead th {\n",
       "        text-align: right;\n",
       "    }\n",
       "</style>\n",
       "<table border=\"1\" class=\"dataframe\">\n",
       "  <thead>\n",
       "    <tr style=\"text-align: right;\">\n",
       "      <th></th>\n",
       "      <th>count</th>\n",
       "      <th>mean</th>\n",
       "      <th>std</th>\n",
       "      <th>min</th>\n",
       "      <th>25%</th>\n",
       "      <th>50%</th>\n",
       "      <th>75%</th>\n",
       "      <th>max</th>\n",
       "    </tr>\n",
       "    <tr>\n",
       "      <th>n_rate</th>\n",
       "      <th></th>\n",
       "      <th></th>\n",
       "      <th></th>\n",
       "      <th></th>\n",
       "      <th></th>\n",
       "      <th></th>\n",
       "      <th></th>\n",
       "      <th></th>\n",
       "    </tr>\n",
       "  </thead>\n",
       "  <tbody>\n",
       "    <tr>\n",
       "      <th>0.0</th>\n",
       "      <td>8.0</td>\n",
       "      <td>23.000000</td>\n",
       "      <td>7.910210</td>\n",
       "      <td>12.0</td>\n",
       "      <td>18.75</td>\n",
       "      <td>22.0</td>\n",
       "      <td>24.75</td>\n",
       "      <td>38.0</td>\n",
       "    </tr>\n",
       "    <tr>\n",
       "      <th>0.2</th>\n",
       "      <td>10.0</td>\n",
       "      <td>24.200000</td>\n",
       "      <td>10.432854</td>\n",
       "      <td>13.0</td>\n",
       "      <td>16.50</td>\n",
       "      <td>22.5</td>\n",
       "      <td>25.25</td>\n",
       "      <td>43.0</td>\n",
       "    </tr>\n",
       "    <tr>\n",
       "      <th>0.4</th>\n",
       "      <td>9.0</td>\n",
       "      <td>33.222222</td>\n",
       "      <td>14.754472</td>\n",
       "      <td>13.0</td>\n",
       "      <td>22.00</td>\n",
       "      <td>36.0</td>\n",
       "      <td>44.00</td>\n",
       "      <td>56.0</td>\n",
       "    </tr>\n",
       "    <tr>\n",
       "      <th>0.6</th>\n",
       "      <td>9.0</td>\n",
       "      <td>37.888889</td>\n",
       "      <td>15.202339</td>\n",
       "      <td>18.0</td>\n",
       "      <td>23.00</td>\n",
       "      <td>34.0</td>\n",
       "      <td>49.00</td>\n",
       "      <td>57.0</td>\n",
       "    </tr>\n",
       "    <tr>\n",
       "      <th>0.8</th>\n",
       "      <td>13.0</td>\n",
       "      <td>40.153846</td>\n",
       "      <td>11.717837</td>\n",
       "      <td>16.0</td>\n",
       "      <td>35.00</td>\n",
       "      <td>40.0</td>\n",
       "      <td>48.00</td>\n",
       "      <td>55.0</td>\n",
       "    </tr>\n",
       "  </tbody>\n",
       "</table>\n",
       "</div>"
      ],
      "text/plain": [
       "        count       mean        std   min    25%   50%    75%   max\n",
       "n_rate                                                             \n",
       "0.0       8.0  23.000000   7.910210  12.0  18.75  22.0  24.75  38.0\n",
       "0.2      10.0  24.200000  10.432854  13.0  16.50  22.5  25.25  43.0\n",
       "0.4       9.0  33.222222  14.754472  13.0  22.00  36.0  44.00  56.0\n",
       "0.6       9.0  37.888889  15.202339  18.0  23.00  34.0  49.00  57.0\n",
       "0.8      13.0  40.153846  11.717837  16.0  35.00  40.0  48.00  55.0"
      ]
     },
     "execution_count": 18,
     "metadata": {},
     "output_type": "execute_result"
    }
   ],
   "source": [
    "# obtain descriptive statistics of yield grouped by nitrogen rates\n",
    "groupby_nrate = filtered_pecan_data.groupby('n_rate')\n",
    "groupby_nrate['yield'].describe()"
   ]
  },
  {
   "cell_type": "code",
   "execution_count": 19,
   "metadata": {},
   "outputs": [
    {
     "name": "stdout",
     "output_type": "stream",
     "text": [
      "One-way ANOVA\n",
      "=============\n",
      "F value: 264.253465167\n",
      "P value: 2.55386997335e-29\n",
      "============= \n",
      "\n",
      "Multiple Comparison of Means - Tukey HSD,FWER=0.05\n",
      "==============================================\n",
      "group1 group2 meandiff  lower    upper  reject\n",
      "----------------------------------------------\n",
      " 0.0    0.2     1.2    -15.3932 17.7932 False \n",
      " 0.0    0.4   10.2222  -6.7758  27.2202 False \n",
      " 0.0    0.6   14.8889  -2.1091  31.8869 False \n",
      " 0.0    0.8   17.1538   1.4346  32.8731  True \n",
      " 0.2    0.4    9.0222  -7.0507  25.0951 False \n",
      " 0.2    0.6   13.6889   -2.384  29.7618 False \n",
      " 0.2    0.8   15.9538   1.2398  30.6679  True \n",
      " 0.4    0.6    4.6667  -11.8238 21.1571 False \n",
      " 0.4    0.8    6.9316  -8.2374  22.1006 False \n",
      " 0.6    0.8    2.265   -12.9041  17.434 False \n",
      "----------------------------------------------\n"
     ]
    }
   ],
   "source": [
    "# One-way ANOVA & Tukey's test\n",
    "# default value alpha=0.05\n",
    "# Effect of rate of N application on pecan yield\n",
    "F1, p1 = stats.f_oneway(filtered_pecan_data['yield'], filtered_pecan_data['n_rate'])\n",
    "mc = MultiComparison(filtered_pecan_data['yield'], filtered_pecan_data['n_rate'])\n",
    "result = mc.tukeyhsd()\n",
    "print ('One-way ANOVA')\n",
    "print ('=============')\n",
    "print ('F value:', F1)\n",
    "print ('P value:', p1)\n",
    "print ('=============', '\\n')\n",
    "print(result)"
   ]
  },
  {
   "cell_type": "code",
   "execution_count": 20,
   "metadata": {},
   "outputs": [
    {
     "name": "stdout",
     "output_type": "stream",
     "text": [
      "One-way ANOVA\n",
      "=============\n",
      "F value: 1938.11590693\n",
      "P value: 1.84900465231e-65\n",
      "============= \n",
      "\n",
      "Multiple Comparison of Means - Tukey HSD,FWER=0.05\n",
      "============================================\n",
      "group1 group2 meandiff  lower  upper  reject\n",
      "--------------------------------------------\n",
      " 0.0    0.2    -0.01   -0.2309 0.2109 False \n",
      " 0.0    0.4   -0.0094  -0.2357 0.2168 False \n",
      " 0.0    0.6   -0.0606  -0.2868 0.1657 False \n",
      " 0.0    0.8   -0.0442  -0.2535 0.165  False \n",
      " 0.2    0.4    0.0006  -0.2134 0.2145 False \n",
      " 0.2    0.6   -0.0506  -0.2645 0.1634 False \n",
      " 0.2    0.8   -0.0342  -0.2301 0.1616 False \n",
      " 0.4    0.6   -0.0511  -0.2706 0.1684 False \n",
      " 0.4    0.8   -0.0348  -0.2367 0.1671 False \n",
      " 0.6    0.8    0.0163  -0.1856 0.2182 False \n",
      "--------------------------------------------\n"
     ]
    }
   ],
   "source": [
    "# One-way ANOVA & Tukey's test\n",
    "# Effect of rate of N application on N content of leaves in July\n",
    "F2, p2 = stats.f_oneway(filtered_pecan_data['july'], filtered_pecan_data['n_rate'])\n",
    "mc = MultiComparison(filtered_pecan_data['july'], filtered_pecan_data['n_rate'])\n",
    "result2 = mc.tukeyhsd()\n",
    "print ('One-way ANOVA')\n",
    "print ('=============')\n",
    "print ('F value:', F2)\n",
    "print ('P value:', p2)\n",
    "print ('=============', '\\n')\n",
    "print(result2)"
   ]
  },
  {
   "cell_type": "code",
   "execution_count": 21,
   "metadata": {},
   "outputs": [
    {
     "name": "stdout",
     "output_type": "stream",
     "text": [
      "One-way ANOVA\n",
      "=============\n",
      "F value: 1314.78048369\n",
      "P value: 7.93632625136e-58\n",
      "============= \n",
      "\n",
      "Multiple Comparison of Means - Tukey HSD,FWER=0.05\n",
      "============================================\n",
      "group1 group2 meandiff  lower  upper  reject\n",
      "--------------------------------------------\n",
      " 0.0    0.2    -0.005  -0.1608 0.1508 False \n",
      " 0.0    0.4    0.0239  -0.1357 0.1835 False \n",
      " 0.0    0.6    0.0328  -0.1268 0.1924 False \n",
      " 0.0    0.8    0.0173  -0.1303 0.1649 False \n",
      " 0.2    0.4    0.0289   -0.122 0.1798 False \n",
      " 0.2    0.6    0.0378  -0.1131 0.1887 False \n",
      " 0.2    0.8    0.0223  -0.1158 0.1605 False \n",
      " 0.4    0.6    0.0089  -0.1459 0.1637 False \n",
      " 0.4    0.8   -0.0066   -0.149 0.1358 False \n",
      " 0.6    0.8   -0.0155  -0.1579 0.1269 False \n",
      "--------------------------------------------\n"
     ]
    }
   ],
   "source": [
    "# One-way ANOVA & Tukey's test\n",
    "# Effect of rate of N application on N content of leaves in October\n",
    "F3, p3 = stats.f_oneway(filtered_pecan_data['oct'], filtered_pecan_data['n_rate'])\n",
    "mc = MultiComparison(filtered_pecan_data['oct'], filtered_pecan_data['n_rate'])\n",
    "result3 = mc.tukeyhsd()\n",
    "print ('One-way ANOVA')\n",
    "print ('=============')\n",
    "print ('F value:', F3)\n",
    "print ('P value:', p3)\n",
    "print ('=============', '\\n')\n",
    "print(result3)"
   ]
  },
  {
   "cell_type": "markdown",
   "metadata": {},
   "source": [
    "## Plotting"
   ]
  },
  {
   "cell_type": "code",
   "execution_count": 22,
   "metadata": {},
   "outputs": [
    {
     "data": {
      "text/plain": [
       "n_rate\n",
       "0.0    23.000000\n",
       "0.2    24.200000\n",
       "0.4    33.222222\n",
       "0.6    37.888889\n",
       "0.8    40.153846\n",
       "Name: yield, dtype: float64"
      ]
     },
     "execution_count": 22,
     "metadata": {},
     "output_type": "execute_result"
    }
   ],
   "source": [
    "# Column indexing and aggregate \n",
    "groupby_nrate_yield = filtered_pecan_data.groupby('n_rate')['yield'].mean()\n",
    "groupby_nrate_yield"
   ]
  },
  {
   "cell_type": "code",
   "execution_count": 23,
   "metadata": {},
   "outputs": [
    {
     "data": {
      "text/html": [
       "<div>\n",
       "<style scoped>\n",
       "    .dataframe tbody tr th:only-of-type {\n",
       "        vertical-align: middle;\n",
       "    }\n",
       "\n",
       "    .dataframe tbody tr th {\n",
       "        vertical-align: top;\n",
       "    }\n",
       "\n",
       "    .dataframe thead th {\n",
       "        text-align: right;\n",
       "    }\n",
       "</style>\n",
       "<table border=\"1\" class=\"dataframe\">\n",
       "  <thead>\n",
       "    <tr style=\"text-align: right;\">\n",
       "      <th></th>\n",
       "      <th>n_rate</th>\n",
       "      <th>yield</th>\n",
       "    </tr>\n",
       "    <tr>\n",
       "      <th>n_rate</th>\n",
       "      <th></th>\n",
       "      <th></th>\n",
       "    </tr>\n",
       "  </thead>\n",
       "  <tbody>\n",
       "    <tr>\n",
       "      <th>0.0</th>\n",
       "      <td>0.0</td>\n",
       "      <td>23.000000</td>\n",
       "    </tr>\n",
       "    <tr>\n",
       "      <th>0.2</th>\n",
       "      <td>0.2</td>\n",
       "      <td>24.200000</td>\n",
       "    </tr>\n",
       "    <tr>\n",
       "      <th>0.4</th>\n",
       "      <td>0.4</td>\n",
       "      <td>33.222222</td>\n",
       "    </tr>\n",
       "    <tr>\n",
       "      <th>0.6</th>\n",
       "      <td>0.6</td>\n",
       "      <td>37.888889</td>\n",
       "    </tr>\n",
       "    <tr>\n",
       "      <th>0.8</th>\n",
       "      <td>0.8</td>\n",
       "      <td>40.153846</td>\n",
       "    </tr>\n",
       "  </tbody>\n",
       "</table>\n",
       "</div>"
      ],
      "text/plain": [
       "        n_rate      yield\n",
       "n_rate                   \n",
       "0.0        0.0  23.000000\n",
       "0.2        0.2  24.200000\n",
       "0.4        0.4  33.222222\n",
       "0.6        0.6  37.888889\n",
       "0.8        0.8  40.153846"
      ]
     },
     "execution_count": 23,
     "metadata": {},
     "output_type": "execute_result"
    }
   ],
   "source": [
    "# setting data \n",
    "data_to_boxplot = pd.DataFrame({'n_rate': filtered_pecan_data['n_rate'].unique(), 'yield': filtered_pecan_data.groupby('n_rate')['yield'].mean()})\n",
    "data_to_boxplot.head(10)"
   ]
  },
  {
   "cell_type": "code",
   "execution_count": 24,
   "metadata": {},
   "outputs": [
    {
     "data": {
      "image/png": "[encoded data removed]",
      "text/plain": [
       "<matplotlib.figure.Figure at 0x11447cba8>"
      ]
     },
     "metadata": {},
     "output_type": "display_data"
    }
   ],
   "source": [
    "# boxplot\n",
    "# Effect of rate of N application on pecan yield\n",
    "#filtered_pecan_data.boxplot('yield', by='n_rate', figsize=(8, 6), fontsize=12) #title='Effect of rate of N on pecan yield')\n",
    "fig1 = plt.figure(1, figsize=(10, 7)) # setting plot dimensions\n",
    "\n",
    "ax = fig1.add_subplot(111) # create axes\n",
    "ax.set_title('Effect of rate of N application, in urea form, on pecan yield', fontsize=14) # set title\n",
    "bx = ax.boxplot(data_to_boxplot) # plot data\n",
    "ax.set_xlabel('N rates in %', fontsize=14) # x label\n",
    "ax.set_ylabel('Pecan yield in kg/tree', fontsize=14) # y label\n",
    "ax.set_yticks(np.arange(0, 46, 5)) # set y ticks \n",
    "ax.set_xticklabels(np.arange(0,0.9,0.2)) # set x ticklabels\n",
    "\n",
    "fig1.savefig('jnb_boxplot_N_yield.png', bbox_inches='tight')"
   ]
  },
  {
   "cell_type": "code",
   "execution_count": 25,
   "metadata": {
    "scrolled": false
   },
   "outputs": [
    {
     "data": {
      "image/png": "[encoded data removed]",
      "text/plain": [
       "<matplotlib.figure.Figure at 0x1167088d0>"
      ]
     },
     "metadata": {},
     "output_type": "display_data"
    }
   ],
   "source": [
    "# bar plot\n",
    "N=5\n",
    "ind = np.arange(N) # for x axis\n",
    "\n",
    "#setting data means and std\n",
    "july_mean = filtered_pecan_data['july'].mean()\n",
    "july_std = filtered_pecan_data['july'].std()\n",
    "oct_mean = filtered_pecan_data['oct'].mean()\n",
    "oct_std = filtered_pecan_data['oct'].std()\n",
    "\n",
    "fig2 = plt.figure(1, figsize=(8, 7))\n",
    "width=0.4 # of the bar\n",
    "#p1 = plt.bar(ind, july_mean, width, yerr=july_std, color='cornflowerblue')\n",
    "#p2 = plt.bar(ind, oct_mean, width, yerr=oct_std, color='hotpink')\n",
    "# link to all color names \n",
    "\n",
    "fig2 = plt.bar(ind, july_mean, width, yerr=july_std, color='cornflowerblue')\n",
    "fig2 = plt.bar(ind, oct_mean, width, yerr=oct_std, color='hotpink')\n",
    "\n",
    "plt.ylabel('% dry weight of N', fontsize=14)\n",
    "plt.title('N content of pecan leaves in July and October', fontsize=14)\n",
    "plt.xticks(ind, ('0', '0.2', '0.4', '0.6', '0.8'))\n",
    "plt.xlabel('N rates in %', fontsize=14)\n",
    "plt.yticks(np.arange(0, 3.1, 0.5))\n",
    "#plt.legend((p1[0], p2[0]), ('July', 'October'), loc=4, ncol=2, framealpha=1)\n",
    "plt.legend(('July', 'October'), loc=4, ncol=2, framealpha=1)\n",
    "fig2 = plt.savefig('jnb_barplot_Ncontent_months.png', bbox_inches='tight')"
   ]
  },
  {
   "cell_type": "code",
   "execution_count": 26,
   "metadata": {},
   "outputs": [],
   "source": [
    "# Awesome!\n",
    "# Let's automate this."
   ]
  },
  {
   "cell_type": "markdown",
   "metadata": {},
   "source": [
    "## Automation"
   ]
  },
  {
   "cell_type": "markdown",
   "metadata": {},
   "source": [
    "We are going to copy these codes into one python script == stats_plotting.py"
   ]
  },
  {
   "cell_type": "code",
   "execution_count": 73,
   "metadata": {},
   "outputs": [
    {
     "name": "stdout",
     "output_type": "stream",
     "text": [
      "Wrote statistics -- Effect of N on yield\n",
      "Wrote statistics -- Effect of rate of N application on N content of leaves in July\n",
      "Wrote statistics -- Effect of rate of N application on N content of leaves in October\n",
      "Saved boxplot to file\n",
      "Saved barplot to file\n",
      "DONE!!\n"
     ]
    }
   ],
   "source": [
    "%%bash\n",
    "chmod +x stats_plotting.py\n",
    "./stats_plotting.py"
   ]
  },
  {
   "cell_type": "code",
   "execution_count": 75,
   "metadata": {},
   "outputs": [
    {
     "name": "stdout",
     "output_type": "stream",
     "text": [
      "Nathalia's redemption...\n",
      "\n",
      "Effect of rate of N application on pecan yield\n",
      "One-way ANOVA\n",
      "--------------------\n",
      "F value:264.253465167\n",
      "P value:2.55386997335e-29\n",
      "--------------------\n",
      "Multiple Comparison of Means - Tukey HSD,FWER=0.05\n",
      "==============================================\n",
      "group1 group2 meandiff  lower    upper  reject\n",
      "----------------------------------------------\n",
      " 0.0    0.2     1.2    -15.3932 17.7932 False \n",
      " 0.0    0.4   10.2222  -6.7758  27.2202 False \n",
      " 0.0    0.6   14.8889  -2.1091  31.8869 False \n",
      " 0.0    0.8   17.1538   1.4346  32.8731  True \n",
      " 0.2    0.4    9.0222  -7.0507  25.0951 False \n",
      " 0.2    0.6   13.6889   -2.384  29.7618 False \n",
      " 0.2    0.8   15.9538   1.2398  30.6679  True \n",
      " 0.4    0.6    4.6667  -11.8238 21.1571 False \n",
      " 0.4    0.8    6.9316  -8.2374  22.1006 False \n",
      " 0.6    0.8    2.265   -12.9041  17.434 False \n",
      "----------------------------------------------\n",
      "\n",
      "\n",
      "\n",
      "\n",
      "Effect of rate of N application on N content of leaves in July\n",
      "One-way ANOVA\n",
      "--------------------\n",
      "F value:1938.11590693\n",
      "P value:1.84900465231e-65\n",
      "--------------------\n",
      "Multiple Comparison of Means - Tukey HSD,FWER=0.05\n",
      "============================================\n",
      "group1 group2 meandiff  lower  upper  reject\n",
      "--------------------------------------------\n",
      " 0.0    0.2    -0.01   -0.2309 0.2109 False \n",
      " 0.0    0.4   -0.0094  -0.2357 0.2168 False \n",
      " 0.0    0.6   -0.0606  -0.2868 0.1657 False \n",
      " 0.0    0.8   -0.0442  -0.2535 0.165  False \n",
      " 0.2    0.4    0.0006  -0.2134 0.2145 False \n",
      " 0.2    0.6   -0.0506  -0.2645 0.1634 False \n",
      " 0.2    0.8   -0.0342  -0.2301 0.1616 False \n",
      " 0.4    0.6   -0.0511  -0.2706 0.1684 False \n",
      " 0.4    0.8   -0.0348  -0.2367 0.1671 False \n",
      " 0.6    0.8    0.0163  -0.1856 0.2182 False \n",
      "--------------------------------------------\n",
      "\n",
      "\n",
      "\n",
      "\n",
      "Effect of rate of N application on N content of leaves in October\n",
      "One-way ANOVA\n",
      "--------------------\n",
      "F value:1314.78048369\n",
      "P value:7.93632625136e-58\n",
      "--------------------\n",
      "Multiple Comparison of Means - Tukey HSD,FWER=0.05\n",
      "============================================\n",
      "group1 group2 meandiff  lower  upper  reject\n",
      "--------------------------------------------\n",
      " 0.0    0.2    -0.005  -0.1608 0.1508 False \n",
      " 0.0    0.4    0.0239  -0.1357 0.1835 False \n",
      " 0.0    0.6    0.0328  -0.1268 0.1924 False \n",
      " 0.0    0.8    0.0173  -0.1303 0.1649 False \n",
      " 0.2    0.4    0.0289   -0.122 0.1798 False \n",
      " 0.2    0.6    0.0378  -0.1131 0.1887 False \n",
      " 0.2    0.8    0.0223  -0.1158 0.1605 False \n",
      " 0.4    0.6    0.0089  -0.1459 0.1637 False \n",
      " 0.4    0.8   -0.0066   -0.149 0.1358 False \n",
      " 0.6    0.8   -0.0155  -0.1579 0.1269 False \n",
      "--------------------------------------------\n",
      "\n",
      "\n",
      "\n",
      "\n"
     ]
    }
   ],
   "source": [
    "%%bash\n",
    "cat statistics_report.txt"
   ]
  },
  {
   "cell_type": "code",
   "execution_count": null,
   "metadata": {},
   "outputs": [],
   "source": []
  }
 ],
 "metadata": {
  "kernelspec": {
   "display_name": "Python 3",
   "language": "python",
   "name": "python3"
  },
  "language_info": {
   "codemirror_mode": {
    "name": "ipython",
    "version": 3
   },
   "file_extension": ".py",
   "mimetype": "text/x-python",
   "name": "python",
   "nbconvert_exporter": "python",
   "pygments_lexer": "ipython3",
   "version": "3.6.1"
  }
 },
 "nbformat": 4,
 "nbformat_minor": 2
}
